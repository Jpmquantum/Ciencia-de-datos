{
 "cells": [
  {
   "cell_type": "markdown",
   "id": "27f23972",
   "metadata": {},
   "source": [
    "## Paqueterías utilizadas"
   ]
  },
  {
   "cell_type": "code",
   "execution_count": 1,
   "id": "cb8f38bf",
   "metadata": {},
   "outputs": [],
   "source": [
    "import numpy as np \n",
    "import cmath as cmth\n",
    "import unidecode\n",
    "from random import *\n",
    "from pylab import *"
   ]
  },
  {
   "cell_type": "markdown",
   "id": "5460c487",
   "metadata": {},
   "source": [
    "## Tarea 1: Repaso de los conceptos básicos de Python\n",
    "### Ciencia de datos para físicos: Facultad de ciencias, UNAM\n",
    "#### Profesores: Karen Rubí Jiménez-López, Pedro Arturo Flores-Silva\n",
    "\n",
    "**Instrucciones:** Este notebook contiene una serie de ejercicios que deben ser resueltos. Cada ejercicio se encuentra en una celda, ya sea de código o Markdown. Debes crear una o dos *celdas debajo de cada ejercicio* con tu(s) respectiva(s) respuestas. No modifiques las celdas originales.\n",
    "\n",
    "Recuerda que para ejecutar el código de una celda, presionar `Ctlr + Enter` o bien el boton de `play` en el editor Jupyter notebook.\n",
    "\n",
    "Cada ejercicio tendrá diferente valor, y se indicará en la celda de éste. La calificación final será la suma de los puntos obtenidos en cada ejercicio. Se calificará considerando la calidad de la respuesta, la claridad de la explicación y la correctitud del código. Por ejemplo, si el código no ejecuta la respuesta correcta pero se da una idea textual, se demuestra que hay comprensión del problema y el código hace sentido para el revisor, se otorgará una calificación parcial. Esto es, las respuestas no solo se evaluarán como bien o mal, sino que se considerará el esfuerzo.\n",
    "\n",
    "El codigo que realices debes comentarlo donde creas necesario, no vale no hacer ningún comentario. Recuerda que los comentarios son importantes para que el código sea legible y entendible, éstos se agregan con el símbolo #. Para las funciones y/o clases que crees, agrega la documentación correspondiente (docstring), éste se agrega con `\"\"\" docstring \"\"\"`."
   ]
  },
  {
   "cell_type": "markdown",
   "id": "66df713a",
   "metadata": {},
   "source": [
    "### Ejercicio 1 (1 punto):\n",
    "En una celda Markdown contesta: \n",
    "* ¿Qué es una palabra reservada en python? Enlista 5 ejemplos de nombres reservados en python y describe su función.\n",
    "* Coloca tres ejemplos de nombres de variables que no son válidos en python. Explica por qué no son válidos."
   ]
  },
  {
   "cell_type": "markdown",
   "id": "cd927902",
   "metadata": {},
   "source": [
    "### Respuestas\n",
    "**1.** Las palabras reservadas son aquellas que el mismo lenguaje de programación utiliza para realizar algunas funciones, por esto mismo, éstas palabras no pueden ser utilizadas para nombrar variables o funciones ya que tienen una función ya establecida dentro del mismo lenguaje. Ejemplo de estas palabras son:\n",
    "- 'for', la cual es utizada para realizar ciclos, pasando por los valores de una lista de manera ordenada. Este ciclo es finito, pues termina de ejecutarse cuando se hayan \"visitado\" todos los valores de la lista donde se está aplicando el ciclo.\n",
    "- 'And', es un booleano, es decir que está reservado para realizar operaciones lógicas donde queremos comparar el estado de dos variables que se toman en cuenta en simultaneo. Así, si todas variables tienen estado 'True',el resultado de la operación And regresará un 'True' y basta con que una sea 'False' Para que el resultado de la operación sea 'False'\n",
    "- 'Or', De nueva cuenta es un booleano que al igual que 'And' sirve para realizar operaciones lógicas donde ahora verificamos un estado donde basta que una de las variables involucradas sea 'True' para que el resultado sea 'True', el único caso donde se regresará 'False' es cuando todas las variables tienen el estado de 'False'\n",
    "- 'def', es una palabra que funciona a manera de contructor, ya que con ella podemos construir clases o funciones que no están definidas dentro del lenguaje.\n",
    "- 'if', es una palabra que sirve para dar una condición que queremos proponer sobre un problema. Esta palabra recibe la condición que elijamos, la cual si se cumple,currirá la acción que queremos como consecuencia. Si por el contrario nuestra condición no se cumple, entonces no se entrará en el cuerpo de la condición.\n",
    "\n",
    "**2.** Algunos ejemplos de nombres de variables no válidos son lo siguientes:\n",
    "- 'list', Dado que esta palabra está reservada para indicar que queremos construir una lista o convertir una cadena de caracteres en una lista.\n",
    "- 'for', Pues como ya explicamos, esta es una palabra reservada para comenzar un ciclo que va a iterar sobre todos los elementos de una lista\n",
    "- 'While', pues es una palabra reservada para construir otro tipo de ciclos, los cuales son 'infinitos' pues estos se repiten constantemente hasta que se llegue a una condición final que termine el ciclo."
   ]
  },
  {
   "cell_type": "markdown",
   "id": "8f4fd89b",
   "metadata": {},
   "source": [
    "### Ejercicio 2 (1 punto):\n",
    "\n",
    "En una celda de código, escribe una función que encuentre las raíces de cualquier polinomio de segundo grado (implementar la chicharronera). En una celda markdown detalla posibles casos en la cual la función podría fallar.\n",
    "Usa dicha función para encontrar las raíces del polinomio $f(x) = 10x^2 - 2x$ e imprimelas en pantalla."
   ]
  },
  {
   "cell_type": "code",
   "execution_count": 2,
   "id": "72b81fb2",
   "metadata": {},
   "outputs": [],
   "source": [
    "def root_pol2(a=0,b=0,c=0):\n",
    "    '''\n",
    "    Esta función calcula las raices de cualquier\n",
    "    polinomio de segundo grado\n",
    "    Recibe las variables (a, b, c)\n",
    "    \n",
    "    a=coeficiente del término cuadrático\n",
    "    \n",
    "    b=coeficiente del término lineal\n",
    "    \n",
    "    c=coeficiente del término independiente\n",
    "    \n",
    "    si los datos no se especifican, los valores se toman =0 \n",
    "    '''\n",
    "    #Se evalúa si se tiene una ecuación cuadrática o no\n",
    "    if a==0:\n",
    "        return 'No se tiene una ecuación cuadrática'\n",
    "    else:\n",
    "        #cálculo del discriminante de la ecuación \n",
    "        D=b**(2)-(4*a*c)\n",
    "        #Evaluación de los 3 posibles valores del discriminante\n",
    "        # 2 Raices reales, se usa la raiz cuadrada de numpy\n",
    "        if D>0:\n",
    "            x1=(-b+np.sqrt(b**(2)-(4*a*c)))/(2*a)\n",
    "            x2=(-b-np.sqrt(b**(2)-(4*a*c)))/(2*a)\n",
    "            return 'x1={}  x2={}'.format(x1,x2)\n",
    "        #Una raíz real\n",
    "        elif D==0:\n",
    "            x=(-b)/(2*a)\n",
    "            return 'x={}'.format(x)\n",
    "        #Raices imaginarias, se usa la raiz cuadrada de cmath \n",
    "        else:\n",
    "            x1=(-b+cmth.sqrt(b**(2)-(4*a*c)))/(2*a)\n",
    "            x2=(-b-cmth.sqrt(b**(2)-(4*a*c)))/(2*a)\n",
    "            return 'Las raices no son reales\\n x1={}  x2={}'.format(x1,x2)"
   ]
  },
  {
   "cell_type": "code",
   "execution_count": 3,
   "id": "f4f0fe1c",
   "metadata": {},
   "outputs": [
    {
     "name": "stdout",
     "output_type": "stream",
     "text": [
      "Ejemplo del funcionamiento con raices reales:\n",
      " x1=1.4142135623730951  x2=-1.4142135623730951\n",
      "Ejemplo del funcionamiento con una raíz:\n",
      " x=-3.0\n",
      "Ejemplo del funcionamiento con raices complejas:\n",
      " Las raices no son reales\n",
      " x1=2j  x2=-2j\n",
      "Ejemplo del funcionamiento para cuando a=0:\n",
      " No se tiene una ecuación cuadrática\n"
     ]
    }
   ],
   "source": [
    "print('Ejemplo del funcionamiento con raices reales:\\n',root_pol2(2,0,-4))\n",
    "print('Ejemplo del funcionamiento con una raíz:\\n',root_pol2(1,6,9))\n",
    "print('Ejemplo del funcionamiento con raices complejas:\\n',root_pol2(1,0,4))\n",
    "print('Ejemplo del funcionamiento para cuando a=0:\\n',root_pol2())"
   ]
  },
  {
   "cell_type": "markdown",
   "id": "c1f687f7",
   "metadata": {},
   "source": [
    "### Análisis de errores\n",
    "Algunos de los casos en lo que la función podría fallar son los siguientes:\n",
    "- Error de tipo de variable ('TypeError') pues esta función trabaja con números reales, de tal forma que si se llegara a meter en la función un srt o una lista, entonces no se podrían hacer operaciones con ese tipo de variables."
   ]
  },
  {
   "cell_type": "markdown",
   "id": "7610c62b",
   "metadata": {},
   "source": [
    "### Ejercicio 3 (1 punto):\n",
    "\n",
    "*Caida libre*: El gran Galileo Galilei subió la torre de Pisa para determinar el tiempo que tarda un objeto en caer desde una altura $H$ al suelo. Para ello, colocó un objeto de masa $m=100$ kg en la torre y lo dejó caer. El tiempo que tardó en caer fue $t=0.05616667$ minutos.\n",
    "\n",
    "Considerando que la aceleración de la gravedad es $g=9.8$ $\\frac{m}{s^2}$, escribe un programa que determine la altura de la torre de Pisa. El programa debe imprimir la altura en la pantalla.\n",
    "\n",
    "Recuerda que el movimiento de caída libre simplificado cumple la ecuación: $y(t) = H + vt - \\frac{1}{2}gt^2$."
   ]
  },
  {
   "cell_type": "markdown",
   "id": "de3c72f8",
   "metadata": {},
   "source": [
    "### Análisis inicial:\n",
    "Tenemos que si Galileo lanzó el objeto y lo dejó caer, entonces la velocidad incial es v=0.\\\n",
    "Ahora bien, si consideramos como punto de referencia la misma altura H, entonces H=0\\\n",
    "De tal manera que usando la ecuación de caida libre, tenemos que la altura será igual a:\n",
    "h(t)=$\\frac{1}{2}$g$t^{2}$\\\n",
    "Donde se cambió el signo a + dado que queremos que la altura quede como positiva"
   ]
  },
  {
   "cell_type": "code",
   "execution_count": 4,
   "id": "2c1517bf",
   "metadata": {},
   "outputs": [
    {
     "name": "stdout",
     "output_type": "stream",
     "text": [
      "55.705601111940204 m\n"
     ]
    }
   ],
   "source": [
    "#Este programa calcula la distancia del tiro vertical\n",
    "\n",
    "#definimos las variables globales\n",
    "g=-9.81 #Constante de aceleración de gravedad\n",
    "H=0 #Altura inicial\n",
    "v=0 #velocidad inicial\n",
    "t=0.05616667*60 #tiempo en segundos\n",
    "#Ahora implementamos la fórmula de la caida libre en general\n",
    "posicion_f=H+v*t-((1/2)*g*t**(2))\n",
    "#imprimimos el resultado\n",
    "print(posicion_f,'m')"
   ]
  },
  {
   "cell_type": "markdown",
   "id": "bf2d28e7",
   "metadata": {},
   "source": [
    "### Ejercicio 4 (1 punto):\n",
    "Crea una lista de números enteros del 0 al 99 : `lista = [0,1, 2, 3, 4, ... , 95, 96, 97, 98, 99]` (6 puntos menos si creas la lista manualmente).\n",
    " \n",
    "Escribe un programa que imprima en la pantalla una la lista que cumpla con las siguientes condiciones:\n",
    "* Los ultimos 10 elementos: debe imprimir lo siguiente `[90, 91, 92, 93, 94, 95, 96, 97, 98, 99]`.\n",
    "* Los primeros 11 elementos: debe imprimir lo siguiente `[0, 1, 2, 3, 4, 5, 6, 7, 8, 9, 10]`.\n",
    "* La serie de elementos de la lista que están entre 60 y 75: debe imprimir lo siguiente `[60, 61, 62, 63, 64, 65, 66, 67, 68, 69, 70, 71, 72, 73, 74, 75]`.\n",
    "* El número 50: debe imprimir lo siguiente `50`.\n",
    "\n",
    "Debes aplicar el concepto de *slicing* para resolver este ejercicio (notación de puntos `[:]`).\n",
    "\n",
    "Puntos menos si se crean listas nuevas para cada caso y/o se seleccionan manualmente los valores."
   ]
  },
  {
   "cell_type": "code",
   "execution_count": 5,
   "id": "ec8be560",
   "metadata": {},
   "outputs": [
    {
     "name": "stdout",
     "output_type": "stream",
     "text": [
      "Los últimos 10 elementos: [90, 91, 92, 93, 94, 95, 96, 97, 98, 99]\n",
      "los primeros 11 elementos: [0, 1, 2, 3, 4, 5, 6, 7, 8, 9, 10]\n",
      "rango de la lista 60-75: [60, 61, 62, 63, 64, 65, 66, 67, 68, 69, 70, 71, 72, 73, 74, 75]\n",
      "Número 50 de la lista: 50\n"
     ]
    }
   ],
   "source": [
    "#Creación de la lsita con número del 0 al 99\n",
    "lst=list(range(100))\n",
    "#Esta parte imprime los últimos 10 elementos\n",
    "print('Los últimos 10 elementos:',lst[-10:])\n",
    "#Se imprimen los primeros 11 elementos\n",
    "print('los primeros 11 elementos:',lst[:11])\n",
    "#Se imprimen los elementos de la lista de un rango entre 60 y 75\n",
    "print('rango de la lista 60-75:',lst[60:76])\n",
    "#Se imprime el número 50 de la lista\n",
    "print('Número 50 de la lista:', lst[50])"
   ]
  },
  {
   "cell_type": "markdown",
   "id": "ac5b94d8",
   "metadata": {},
   "source": [
    "### Ejercicio 5 (1 punto):\n",
    "Crea una lista de números enteros del 0 al 1000. A partir de dicha lista:\n",
    "* Guarda en una variable una lista con los números pares usando ciclos y condicionales. Imprime los últimos 10 elementos de la lista final.\n",
    "* Guarda en una variable una lista con los números impares usando listas comprensivas (comprehension list). Imprime los primeros 10 elementos de la lista final."
   ]
  },
  {
   "cell_type": "code",
   "execution_count": 6,
   "id": "748cc09f",
   "metadata": {},
   "outputs": [
    {
     "name": "stdout",
     "output_type": "stream",
     "text": [
      "Últimos 10 pares: [982, 984, 986, 988, 990, 992, 994, 996, 998, 1000]\n",
      "Primeros 10 impares: [1, 3, 5, 7, 9, 11, 13, 15, 17, 19]\n"
     ]
    }
   ],
   "source": [
    "#Se crea una lista de números del 0 al 1000\n",
    "lst=list(range(1001))\n",
    "#Para usar ciclos y condicionales primero definimos una lista vacia\n",
    "pares=[]\n",
    "#usamos un ciclo para recorrer toda la lista\n",
    "for i in lst:\n",
    "    #Se coloca la condición de que un número sea par\n",
    "    if i%2==0:\n",
    "        #Se agregan a la lista vacía, los números pares\n",
    "        pares.append(i)\n",
    "#Por comprensión, colocamos el ciclo y la condición dentro de la misma lista\n",
    "impares=[i for i in lst if i%2==1]\n",
    "#Se imprimen los últimos 10 números pares\n",
    "print('Últimos 10 pares:',pares[-10:])\n",
    "#se imprimen los primeros 10 impares\n",
    "print('Primeros 10 impares:',impares[0:10])"
   ]
  },
  {
   "cell_type": "markdown",
   "id": "00462693",
   "metadata": {},
   "source": [
    "### Ejercicio 6 (2 puntos): Aproximación de $\\pi$\n",
    "Una de las formas más sencillas de aproximar $\\pi$ es mediante la siguiente serie infinita de Leibniz:\n",
    "$$\\frac{\\pi}{4} = \\sum_{n=0}^{\\infty}\\frac{(-1)^{n}}{(2n+1)} = \\frac{1}{1} - \\frac{1}{3} + \\frac{1}{5}-\\frac{1}{7}+\\frac{1}{9}-...$$\n",
    "\n",
    "crea una función para aproximar $\\pi$ utilizando la serie de Leibniz. Usa n = 100000 e imprime el valor de tu aproximación tanto el valor de $\\frac{\\pi}{4}$ como $\\pi$.\n",
    "\n",
    "El valor de $\\pi$ se obtiene al despejar:\n",
    "$$\\pi = 4 * \\left(\\sum_{n=0}^{\\infty}\\frac{(-1)^{n}}{(2n+1)} \\right)$$\n",
    "\n",
    "La siguiente celda de codigo ofrece el valor de $\\frac{\\pi}{4}$"
   ]
  },
  {
   "cell_type": "code",
   "execution_count": 7,
   "id": "a4a31d07",
   "metadata": {},
   "outputs": [
    {
     "name": "stdout",
     "output_type": "stream",
     "text": [
      "El valor de pi/4 es aproximadamente 0.7853981633974483\n"
     ]
    }
   ],
   "source": [
    "import numpy as np\n",
    "#El valor de pi/4\n",
    "print(\"El valor de pi/4 es aproximadamente {}\".format(np.pi/4))\n"
   ]
  },
  {
   "cell_type": "code",
   "execution_count": 8,
   "id": "89ca9e59",
   "metadata": {},
   "outputs": [],
   "source": [
    "#Definimos la función de aproximación de pi mediante la serie de Leibniz\n",
    "def Leibniz_pi(n):\n",
    "    '''\n",
    "    Esta función aproxima pi mediante la serie de Leibniz\n",
    "    Recibe como argumento un valor de n, el cual será el término máximo de nuestra suma\n",
    "    '''\n",
    "    sum=0\n",
    "    for i in range(n):\n",
    "        sum+=((-1)**(i))/(2*i+1)\n",
    "    return 4*sum"
   ]
  },
  {
   "cell_type": "code",
   "execution_count": 9,
   "id": "788de508",
   "metadata": {},
   "outputs": [
    {
     "name": "stdout",
     "output_type": "stream",
     "text": [
      "el valor de pi/4 calculado con la serie de Lebniz es:\n",
      " 0.7853956633974299\n",
      "La aproximación porcentual al valor real es de: 99.99968169011149 %\n",
      "El valor de pi calculado con la serie de Leibniz es:\n",
      " 3.1415826535897198\n",
      "La aproximación porcentual al valor real es de: 99.99968169011149 %\n"
     ]
    }
   ],
   "source": [
    "#Evaluamon nuestra función\n",
    "#primero calculando pi/4\n",
    "print('el valor de pi/4 calculado con la serie de Lebniz es:\\n',Leibniz_pi(100000)/4)\n",
    "#Calculamos que tan próximo es el valor al obtenido en python\n",
    "print('La aproximación porcentual al valor real es de:',((Leibniz_pi(100000)/4)/(np.pi/4))*100,'%')\n",
    "#Ahora calculamos el valor de pi\n",
    "print('El valor de pi calculado con la serie de Leibniz es:\\n',Leibniz_pi(100000))\n",
    "#Calculamos que tan parecido es al valor de pi comparado con el de python\n",
    "print('La aproximación porcentual al valor real es de:',((Leibniz_pi(100000))/(np.pi))*100,'%')"
   ]
  },
  {
   "cell_type": "markdown",
   "id": "d0c28e6e",
   "metadata": {},
   "source": [
    "## Ejercicio 7 (1 puntos): Identificador de vocales\n",
    "\n",
    "Escribe una función que reciba una cadena, por ejemplo 'el pErro de la tiA chOnita' y regrese la cantidad de vocales que contiene. La función debe contener varios casos de prueba, if, elif y else. Con la cadena de ejemplo, imprime en pantalla el resultado de la función (10).\n",
    "\n",
    "Para conocer si un caracter es una vocal, primero debes descomponer la cadena en caracteres individuales. Para ello observa el siguiente código:"
   ]
  },
  {
   "cell_type": "code",
   "execution_count": 10,
   "id": "55a65e0f",
   "metadata": {},
   "outputs": [
    {
     "name": "stdout",
     "output_type": "stream",
     "text": [
      "['e', 'l', ' ', 'p', 'E', 'r', 'r', 'o', ' ', 'd', 'e', ' ', 'l', 'a', ' ', 't', 'i', 'A', ' ', 'c', 'h', 'O', 'n', 'i', 't', 'a']\n"
     ]
    }
   ],
   "source": [
    "# Divide una cadena en caracteres individuales\n",
    "cadena_prueba = 'el pErro de la tiA chOnita'\n",
    "caracteres_individuales = list(cadena_prueba)\n",
    "print(caracteres_individuales)"
   ]
  },
  {
   "cell_type": "code",
   "execution_count": 11,
   "id": "e14b0146",
   "metadata": {},
   "outputs": [],
   "source": [
    "#definimos la función que encontrará las vocales en un srt\n",
    "def find_voc(s):\n",
    "    '''\n",
    "    Función que encuentra las vocales en una cadena de caracteres (s).\n",
    "    Recibe como variable una cadena de caracteres y regresa un int igual al número de vocales\n",
    "    Considera también aquellas vocales con signos de puntuación\n",
    "    '''\n",
    "    #Se convierten los carecteres de la cadena en su forma 7-bit ASCII y convierte toda la lista en minúsculas\n",
    "    #Esto para eliminar los signos de puntuación que pudieran tener las vocales y así\n",
    "    #reducir los casos para más adelante. \n",
    "    s=unidecode.unidecode(s.lower())\n",
    "    #Se convierte la cadena de caracteres en una lista llamada crt\n",
    "    crt=list(s)\n",
    "    #Definimos una lista vacía en donde guardar las vocales que se encuentren en crt\n",
    "    lst=[]\n",
    "    #Recorremos la lista crt\n",
    "    for caracter in crt:\n",
    "        #Se pregunta por si se encuentran los caracteres a,e,i,o ó u \n",
    "        if caracter=='a' or caracter=='e' or caracter=='i' or caracter=='o' or caracter=='u':\n",
    "            #Si se encuentran vocales entonces se pegan éstas en la lista vacía lst\n",
    "            lst.append(caracter)\n",
    "        #Si no, sólo continuamos revisando la lista crt    \n",
    "        else:\n",
    "            continue\n",
    "    #Regresamos el tamaño de la lista lst llena con las vocales\n",
    "    return print('hay {} vocales en tu cadena'.format(len(lst)))"
   ]
  },
  {
   "cell_type": "code",
   "execution_count": 12,
   "id": "44486ba1",
   "metadata": {},
   "outputs": [
    {
     "name": "stdout",
     "output_type": "stream",
     "text": [
      "hay 12 vocales en tu cadena\n"
     ]
    }
   ],
   "source": [
    "find_voc('éstä, es unA cAdëna de Prûebà')"
   ]
  },
  {
   "cell_type": "markdown",
   "id": "fb89fa24",
   "metadata": {},
   "source": [
    "### Ejercicio 8 (2 puntos):\n",
    "\n",
    "Escribe una clase \"calculadora\" que regrese el resultado de las operaciones de suma, resta, multiplicacion, division, modulo y potencia. La clase debe contener un método para cada operación.\n",
    "\n",
    "Los métodos que pudiesen presentar errores como division entre cero, deben ser manejados de tal manera que el programa no imprima ningun error (vimos una clausula para hacer esto).\n",
    "\n",
    "Adicional a esto, los métodos modulo y potencia deben ser generales, es decir, deben funcionar para cualquier número entero positivo (es un parámetro extra del método). Por ejemplo, la potencia de 2 elevado a 3 es 8, la potencia de 5 elevado a 3 es 125, etc.\n",
    "\n",
    "Crea una instancia de la clase calculadora y prueba cada uno de los métodos, con valores de tu elección. Para los métodos que pudiesen presentar errores da dos ejemplos, uno totalmente funcional (3/5 por ejemplo) y otro que sea conflictivo pero que no regresa ningún error (4/0 por ejemplo)."
   ]
  },
  {
   "cell_type": "code",
   "execution_count": 13,
   "id": "01baef55",
   "metadata": {},
   "outputs": [],
   "source": [
    "class calculadora():\n",
    "    '''\n",
    "    Clase que se instancia sólo definiendo la marca de la misma, la cual se convertirá en un str\n",
    "    Esta clase tiene definidos los métodos de suma, resta, división, multiplicación, módulo y potencia\n",
    "    entre 2 números.\n",
    "    Especificaciones sobre algunas funciones:\n",
    "    El orden entre los números de algunas operaciones importa, éstas son:\n",
    "    - Resta. El segúndo número se le resta al primero\n",
    "    - División. El segundo número divide al primero\n",
    "    - Módulo. Se calcula respecto al segundo número\n",
    "    - Potencia. El primer número es la base y el segundo es el exponente\n",
    "    '''\n",
    "    #Se definen los atributos de nuestra clase, en este caso sólo tiene el atributo 'marca' el cual se convierte en srt\n",
    "    def __init__(self,marca):\n",
    "        self.marca=str(marca)\n",
    "    #Definimos los métodos de nuestra clase\n",
    "    #La suma entre 2 números\n",
    "    def suma(self,a,b):\n",
    "        c=a+b\n",
    "        return c\n",
    "    #la resta entre dos números, el primero menos el segundo\n",
    "    def resta(self,a,b):\n",
    "        c=a-b\n",
    "        return c\n",
    "    #La multiplicación entre 2 números\n",
    "    def multiplicación(self,a,b):\n",
    "        c=a*b\n",
    "        return c\n",
    "    #La división entre 2 números, el segundo número divide el primero\n",
    "    def división(self,a,b):\n",
    "        #Se forza la división entre los números sin importar si hay errores\n",
    "        try:\n",
    "            c=a/b\n",
    "            return c\n",
    "        #El caso donde puede haber errores es cuando tenemos a/0,\n",
    "        except:\n",
    "            #se imprime el mensaje de que la división no aplica\n",
    "            return 'no aplica'\n",
    "    #El módulo de un número a respecto un número b\n",
    "    def modulo(self,a,b):\n",
    "        #Se fuerza ésta parte del código para que no se lance ningún error\n",
    "        try:\n",
    "            #Se realiza la operación del módulo\n",
    "            c=a%b\n",
    "            return c\n",
    "        #Si se presenta una operación inválida como a%0 entonces se entra a esta parte\n",
    "        except:\n",
    "            #Si se detecta el error antes mencionado, se lanza el error de que no aplica\n",
    "            return 'no aplica'\n",
    "    #Potencia entre dos números donde la base es a y la potencia es b\n",
    "    def potencia(self,a,b):\n",
    "        c=a**(b)\n",
    "        return c"
   ]
  },
  {
   "cell_type": "code",
   "execution_count": 14,
   "id": "06312d28",
   "metadata": {},
   "outputs": [
    {
     "name": "stdout",
     "output_type": "stream",
     "text": [
      "10\n",
      "2\n",
      "18.92\n",
      "2.2857142857142856\n",
      "no aplica\n",
      "0\n",
      "no aplica\n",
      "512\n",
      "3.4641016151377544\n"
     ]
    }
   ],
   "source": [
    "mi_calculadora=calculadora(2)\n",
    "print(mi_calculadora.suma(8,2))\n",
    "print(mi_calculadora.resta(1,-1))\n",
    "print(mi_calculadora.multiplicación(8.6,2.2))\n",
    "print(mi_calculadora.división(16,7))\n",
    "print(mi_calculadora.división(3,0))\n",
    "print(mi_calculadora.modulo(8,2))\n",
    "print(mi_calculadora.modulo(8,0))\n",
    "print(mi_calculadora.potencia(8,3))\n",
    "print(mi_calculadora.potencia(12,0.5))"
   ]
  },
  {
   "cell_type": "markdown",
   "id": "c6e4da53",
   "metadata": {},
   "source": [
    "### Ejercicio de puntos extras opcional (1 punto):\n",
    "\n",
    "Supóngamos que tenemos una lista de números enteros y queremos encontrar el número más grande. Por ejemplo, si la lista es `[1, 2, 3, 4, 5]` el número más grande es 5. Crea una función que encuentre el número más grande en una lista de números. La función debe regresar el número más grande y el índice en el que se encuentra. Prueba la función con una lista de números de tu elección."
   ]
  },
  {
   "cell_type": "code",
   "execution_count": 15,
   "id": "60d86fe6",
   "metadata": {},
   "outputs": [],
   "source": [
    "def bigger(lst):\n",
    "    '''\n",
    "    Esta función calcula el valor máximo dentro de una lista, o una tupla\n",
    "    '''\n",
    "    #Forzamos a que se ejecute esta parte del código sin lanzar errores\n",
    "    try:\n",
    "        #Se define al primer elemento de la lista como el número más grande\n",
    "        big=lst[0]\n",
    "        #Se define una variable que guardará el valor del índice del número más grande\n",
    "        idx=0\n",
    "        #Se inicia un ciclo que recorrerá todos los elementos de la lista\n",
    "        for i in range(len(lst)):\n",
    "            #Se pregunra por cada entrada de la lista si el valor es mayor que el mayor antes definido\n",
    "            if lst[i]>big:\n",
    "                #Si se encuentra uno mayor, entonces se toma ese valor como el nuevo mayor \n",
    "                big=lst[i]\n",
    "                #Se toma el ínidice del nuevo mayor\n",
    "                idx=i\n",
    "            #De no encontrar un valor mayor entonces se continua con el ciclo\n",
    "            else:\n",
    "                continue\n",
    "        #Se regresan los valores obtenidos para el número más grande y el índice donde se encuentra\n",
    "        return 'max={}  idx={}'.format(big,idx)\n",
    "    #Se lanza un error si se mete una lista vacía o una variable diferente a una lista llena con números\n",
    "    #En este caso se lanza un mensaje, informando el tipo de datos que acepta ésta función\n",
    "    except:\n",
    "        return 'Introduce una lista o tupla con números como entradas'"
   ]
  },
  {
   "cell_type": "code",
   "execution_count": 16,
   "id": "57feb187",
   "metadata": {},
   "outputs": [
    {
     "data": {
      "text/plain": [
       "'max=102.6  idx=5'"
      ]
     },
     "execution_count": 16,
     "metadata": {},
     "output_type": "execute_result"
    }
   ],
   "source": [
    "a=[1,6,87,98,23.5,102.6,78,-98,-1,0]\n",
    "bigger(a)"
   ]
  },
  {
   "cell_type": "code",
   "execution_count": 17,
   "id": "bd4e7b69",
   "metadata": {},
   "outputs": [
    {
     "data": {
      "text/plain": [
       "'max=2295  idx=10'"
      ]
     },
     "execution_count": 17,
     "metadata": {},
     "output_type": "execute_result"
    }
   ],
   "source": [
    "b=[randrange(0,2343) for i in range(190)]\n",
    "bigger(b)"
   ]
  },
  {
   "cell_type": "code",
   "execution_count": 18,
   "id": "3e262bf4",
   "metadata": {},
   "outputs": [
    {
     "data": {
      "text/plain": [
       "'Introduce una lista o tupla con números como entradas'"
      ]
     },
     "execution_count": 18,
     "metadata": {},
     "output_type": "execute_result"
    }
   ],
   "source": [
    "c=[]\n",
    "bigger(c)"
   ]
  },
  {
   "cell_type": "markdown",
   "id": "525883b3",
   "metadata": {},
   "source": [
    "### Ejercicio de puntos extras opcional (3 puntos):\n",
    "\n",
    "Supóngamos que tenemos un dado convencional de 6 caras. Crea una función que simule el lanzamiento de un dado. La función debe regresar un número aleatorio entre 1 y 6.\n",
    "\n",
    "Sabemos que la probabilidad de que salga un número es de $\\frac{1}{6}$, es decir, la probabilidad de que salga un 1 es de $\\frac{1}{6}$, la probabilidad de que salga un 2 es de $\\frac{1}{6}$, etc.\n",
    "\n",
    "* Prueba la función con 6 lanzamientos, en una celda markdown explica porqué el resultado es dificilmente [1, 2, 3, 4, 5, 6].\n",
    "\n",
    "* Prueba la función con 1000 lanzamientos, crea una grafica de barras de los resultados (investiga como puedes graficar los resultados en una grafica de barras) y explica a que distribucion se parece y porqué es así.\n",
    "\n",
    "Hint: Para crear los números aleatorios, puedes usar la función `random.randint()`. O bien, usar el modulo numpy para crearlos. Para graficar los resultados, puedes usar la libreria matplotlib, seaborn, plotly o cualquiera que se te haga más fácil."
   ]
  },
  {
   "cell_type": "code",
   "execution_count": 19,
   "id": "56266fd1",
   "metadata": {},
   "outputs": [],
   "source": [
    "def dado():\n",
    "    '''\n",
    "    Función que simula el lanzamiento de un dado de 6 caras\n",
    "    '''\n",
    "    #Se usa la función randint para generar un número pseudoaletório entre 1 y 6\n",
    "    x=randint(1,7)\n",
    "    return x"
   ]
  },
  {
   "cell_type": "markdown",
   "id": "70e7da61",
   "metadata": {},
   "source": [
    "### Particularidades del espacio muestral de lanzar un dado\n",
    "Cuando lanzamos una vez un dado, tenemos 6 posibilidades (1,2,3,4,5,6), en el momento en que lanzamos el dado 2 veces entonces tenemos 36 posibilidades [(1,1),(1,2),(1,3),(1,4),(1,5),(1,6),(2,1),...(6,6)] de manera que si lanzamos el dado una cantidad N de veces tendemos N-adas con las diferentes combinaciones de posibilidades por entrada.\\\n",
    "Así nuestro espacio muestral es el siguiente:\n",
    "S={($z_{1}$,...$z_{N}$)|$z_{i}$  $\\epsilon$  {1,2,3,4,5,6} y N $\\epsilon$  $\\mathbb{N}$}\\\n",
    "Donde además tiene una cardinalidad de $6^{N}$\\\n",
    "Con esto concluimos que la probabilidad de que después de 6 tiros obtengamos la sucesión de números [1,2,3,4,5,6] es de $\\frac{1}{6^{6}}=\\frac{1}{46656}$ la cual es ridiculamente pequeña (sin embargo, no imposible)"
   ]
  },
  {
   "cell_type": "code",
   "execution_count": 29,
   "id": "b1994357",
   "metadata": {},
   "outputs": [
    {
     "data": {
      "image/png": "[encoded data removed]",
      "text/plain": [
       "<Figure size 432x288 with 1 Axes>"
      ]
     },
     "metadata": {
      "needs_background": "light"
     },
     "output_type": "display_data"
    }
   ],
   "source": [
    "#Se genera una lista llena con los resultados de lanzar 10000 veces un dado de 6 caras\n",
    "lanz=[dado() for i in range(10000)]\n",
    "#se genera un invervalo que va desde el valor mínimo hasta el valor máximo de la lista +2}\n",
    "#el +2 está considerando que range toma el intervalo abierto además de que es necesesario que se generen 6 intervalos\n",
    "intervalos=range(min(lanz),max(lanz)+2)\n",
    "#Se usa la función hist de mathplotlib  donde colocamos como datos, la frecuencia de cada cara\n",
    "#Los intervalos los definimosdel mismo tamaño la lista 'intervalos'\n",
    "hist(x=lanz,bins=intervalos,rwidth=0.4,color='darkblue')\n",
    "#Esta parte es para personalizar el gráfico y colocar títulos, nombres de ejes y lineas punteadas horizontales\n",
    "title('1000 lanzamientos de un dado')\n",
    "xlabel('caras del dado')\n",
    "ylabel('frecuencia de aparición')\n",
    "#Se especifica el número de la cara del dado\n",
    "xticks(intervalos)\n",
    "grid(axis='y',linestyle='--',color='magenta')"
   ]
  }
 ],
 "metadata": {
  "kernelspec": {
   "display_name": "Python 3 (ipykernel)",
   "language": "python",
   "name": "python3"
  },
  "language_info": {
   "codemirror_mode": {
    "name": "ipython",
    "version": 3
   },
   "file_extension": ".py",
   "mimetype": "text/x-python",
   "name": "python",
   "nbconvert_exporter": "python",
   "pygments_lexer": "ipython3",
   "version": "3.9.12"
  },
  "vscode": {
   "interpreter": {
    "hash": "ad2bdc8ecc057115af97d19610ffacc2b4e99fae6737bb82f5d7fb13d2f2c186"
   }
  }
 },
 "nbformat": 4,
 "nbformat_minor": 5
}
