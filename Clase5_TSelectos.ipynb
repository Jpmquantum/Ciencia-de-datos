{
 "cells": [
  {
   "cell_type": "markdown",
   "id": "37a8e7d9",
   "metadata": {},
   "source": [
    "## Continuación de clases"
   ]
  },
  {
   "cell_type": "code",
   "execution_count": 22,
   "id": "8c448ca1",
   "metadata": {},
   "outputs": [],
   "source": [
    "#Si se declaran variables globales en el sistema, entonces puedes\n",
    "#llamarlas en tu clase sin necesidad del self.(variable global)\n",
    "variable2=23\n",
    "class Coche():\n",
    "    #Se pueden declarar variables globales dentro de la clase\n",
    "    variable_global=15000\n",
    "    #creación de las caracterísiticas (atributos) de mi objeto\n",
    "    def __init__(self,marca,año,color):\n",
    "        self.marca=marca\n",
    "        self.año=año\n",
    "        self.color=color\n",
    "    #creación de los métodos\n",
    "    #funciones o acciones que puede realizar mi objeto\n",
    "    def arranque(self):\n",
    "        #para llamar una variable global de la clase\n",
    "        #se tiene que usar el self.(variable global)\n",
    "        print(self.variable_global)\n",
    "        print(variable2)\n",
    "        return 'brumm'\n",
    "    \n",
    "    def frenar(self, quemar=False):\n",
    "        if quemar:\n",
    "            print('kaput')\n",
    "        else:\n",
    "            print('si frenó')\n",
    "        return None"
   ]
  },
  {
   "cell_type": "code",
   "execution_count": 23,
   "id": "d766db85",
   "metadata": {},
   "outputs": [],
   "source": [
    "#creación de una instancia de ese objeto\n",
    "coche_1=Coche(marca='BMW', año=2070, color='green')"
   ]
  },
  {
   "cell_type": "code",
   "execution_count": 4,
   "id": "5c6e4be5",
   "metadata": {},
   "outputs": [
    {
     "data": {
      "text/plain": [
       "'green'"
      ]
     },
     "execution_count": 4,
     "metadata": {},
     "output_type": "execute_result"
    }
   ],
   "source": [
    "coche_1.color"
   ]
  },
  {
   "cell_type": "code",
   "execution_count": 24,
   "id": "3d465355",
   "metadata": {},
   "outputs": [
    {
     "name": "stdout",
     "output_type": "stream",
     "text": [
      "15000\n",
      "23\n"
     ]
    },
    {
     "data": {
      "text/plain": [
       "'brumm'"
      ]
     },
     "execution_count": 24,
     "metadata": {},
     "output_type": "execute_result"
    }
   ],
   "source": [
    "coche_1.arranque()"
   ]
  },
  {
   "cell_type": "code",
   "execution_count": 15,
   "id": "b3778a3b",
   "metadata": {},
   "outputs": [
    {
     "name": "stdout",
     "output_type": "stream",
     "text": [
      "si frenó\n"
     ]
    }
   ],
   "source": [
    "coche_1.frenar(False)"
   ]
  },
  {
   "cell_type": "code",
   "execution_count": 28,
   "id": "d130e51f",
   "metadata": {},
   "outputs": [],
   "source": [
    "#Otra instancia\n",
    "coche_2=Coche('Chevrolet',2010,'red')"
   ]
  },
  {
   "cell_type": "code",
   "execution_count": 29,
   "id": "fedc9159",
   "metadata": {},
   "outputs": [
    {
     "data": {
      "text/plain": [
       "'Chevrolet'"
      ]
     },
     "execution_count": 29,
     "metadata": {},
     "output_type": "execute_result"
    }
   ],
   "source": [
    "coche_2.marca"
   ]
  },
  {
   "cell_type": "code",
   "execution_count": 30,
   "id": "75f7fa5f",
   "metadata": {},
   "outputs": [
    {
     "name": "stdout",
     "output_type": "stream",
     "text": [
      "15000\n",
      "23\n"
     ]
    },
    {
     "data": {
      "text/plain": [
       "'brumm'"
      ]
     },
     "execution_count": 30,
     "metadata": {},
     "output_type": "execute_result"
    }
   ],
   "source": [
    "coche_2.arranque()"
   ]
  },
  {
   "cell_type": "code",
   "execution_count": 26,
   "id": "f7cd2393",
   "metadata": {},
   "outputs": [],
   "source": [
    "class Calculadora():\n",
    "    def __init__(self, marca, modelo):\n",
    "        self.marca=marca\n",
    "        self.modelo=modelo\n",
    "    def suma(self, a,b):\n",
    "        return a+b\n",
    "    def producto(self, a,b):\n",
    "        return a*b\n",
    "    "
   ]
  },
  {
   "cell_type": "code",
   "execution_count": 27,
   "id": "c1291698",
   "metadata": {},
   "outputs": [],
   "source": [
    "casio=Calculadora('casio','xxc')"
   ]
  },
  {
   "cell_type": "code",
   "execution_count": 31,
   "id": "8ef3f080",
   "metadata": {},
   "outputs": [
    {
     "data": {
      "text/plain": [
       "6"
      ]
     },
     "execution_count": 31,
     "metadata": {},
     "output_type": "execute_result"
    }
   ],
   "source": [
    "casio.suma(1,5)"
   ]
  },
  {
   "cell_type": "code",
   "execution_count": 32,
   "id": "4758b919",
   "metadata": {},
   "outputs": [
    {
     "data": {
      "text/plain": [
       "72"
      ]
     },
     "execution_count": 32,
     "metadata": {},
     "output_type": "execute_result"
    }
   ],
   "source": [
    "casio.producto(9,8)"
   ]
  },
  {
   "cell_type": "code",
   "execution_count": 33,
   "id": "99b54eb4",
   "metadata": {},
   "outputs": [
    {
     "data": {
      "text/plain": [
       "90"
      ]
     },
     "execution_count": 33,
     "metadata": {},
     "output_type": "execute_result"
    }
   ],
   "source": [
    "casio.producto(casio.suma(8,7),6)"
   ]
  },
  {
   "cell_type": "markdown",
   "id": "3bf3770f",
   "metadata": {},
   "source": [
    "## Módulos o paqueterías en python"
   ]
  },
  {
   "cell_type": "code",
   "execution_count": 37,
   "id": "c48e1e5a",
   "metadata": {},
   "outputs": [],
   "source": [
    "#Números aleatorios\n",
    "import random"
   ]
  },
  {
   "cell_type": "code",
   "execution_count": 38,
   "id": "aa31d2af",
   "metadata": {},
   "outputs": [
    {
     "data": {
      "text/plain": [
       "10"
      ]
     },
     "execution_count": 38,
     "metadata": {},
     "output_type": "execute_result"
    }
   ],
   "source": [
    "#obtener un entero entre 1 y 10 \n",
    "random.randint(0,10)"
   ]
  },
  {
   "cell_type": "code",
   "execution_count": 53,
   "id": "00ea365b",
   "metadata": {},
   "outputs": [
    {
     "data": {
      "text/plain": [
       "43.451104519521955"
      ]
     },
     "execution_count": 53,
     "metadata": {},
     "output_type": "execute_result"
    }
   ],
   "source": [
    "random.gauss(mu=50,sigma=12)"
   ]
  },
  {
   "cell_type": "code",
   "execution_count": 54,
   "id": "512df7f2",
   "metadata": {},
   "outputs": [
    {
     "name": "stdout",
     "output_type": "stream",
     "text": [
      "Collecting bertopic\n",
      "  Downloading bertopic-0.14.0-py2.py3-none-any.whl (119 kB)\n",
      "Requirement already satisfied: scikit-learn>=0.22.2.post1 in c:\\users\\jesus\\anaconda3\\lib\\site-packages (from bertopic) (1.0.2)\n",
      "Requirement already satisfied: plotly>=4.7.0 in c:\\users\\jesus\\anaconda3\\lib\\site-packages (from bertopic) (5.6.0)\n",
      "Collecting umap-learn>=0.5.0\n",
      "  Downloading umap-learn-0.5.3.tar.gz (88 kB)\n",
      "Collecting hdbscan>=0.8.29\n",
      "  Downloading hdbscan-0.8.29.tar.gz (5.2 MB)"
     ]
    },
    {
     "name": "stderr",
     "output_type": "stream",
     "text": [
      "  ERROR: Command errored out with exit status 1:\n",
      "   command: 'C:\\Users\\jesus\\anaconda3\\python.exe' 'C:\\Users\\jesus\\anaconda3\\lib\\site-packages\\pip\\_vendor\\pep517\\in_process\\_in_process.py' build_wheel 'C:\\Users\\jesus\\AppData\\Local\\Temp\\tmpqg19f694'\n",
      "       cwd: C:\\Users\\jesus\\AppData\\Local\\Temp\\pip-install-zb5t08f8\\hdbscan_c911192c01fa42569b496d556ccb92eb\n",
      "  Complete output (40 lines):\n",
      "  running bdist_wheel\n",
      "  running build\n",
      "  running build_py\n",
      "  creating build\n",
      "  creating build\\lib.win-amd64-cpython-39\n",
      "  creating build\\lib.win-amd64-cpython-39\\hdbscan\n",
      "  copying hdbscan\\flat.py -> build\\lib.win-amd64-cpython-39\\hdbscan\n",
      "  copying hdbscan\\hdbscan_.py -> build\\lib.win-amd64-cpython-39\\hdbscan\n",
      "  copying hdbscan\\plots.py -> build\\lib.win-amd64-cpython-39\\hdbscan\n",
      "  copying hdbscan\\prediction.py -> build\\lib.win-amd64-cpython-39\\hdbscan\n",
      "  copying hdbscan\\robust_single_linkage_.py -> build\\lib.win-amd64-cpython-39\\hdbscan\n",
      "  copying hdbscan\\validity.py -> build\\lib.win-amd64-cpython-39\\hdbscan\n",
      "  copying hdbscan\\__init__.py -> build\\lib.win-amd64-cpython-39\\hdbscan\n",
      "  creating build\\lib.win-amd64-cpython-39\\hdbscan\\tests\n",
      "  copying hdbscan\\tests\\test_flat.py -> build\\lib.win-amd64-cpython-39\\hdbscan\\tests\n",
      "  copying hdbscan\\tests\\test_hdbscan.py -> build\\lib.win-amd64-cpython-39\\hdbscan\\tests\n",
      "  copying hdbscan\\tests\\test_prediction_utils.py -> build\\lib.win-amd64-cpython-39\\hdbscan\\tests\n",
      "  copying hdbscan\\tests\\test_rsl.py -> build\\lib.win-amd64-cpython-39\\hdbscan\\tests\n",
      "  copying hdbscan\\tests\\__init__.py -> build\\lib.win-amd64-cpython-39\\hdbscan\\tests\n",
      "  running build_ext\n",
      "  cythoning hdbscan/_hdbscan_tree.pyx to hdbscan\\_hdbscan_tree.c\n",
      "  C:\\Users\\jesus\\AppData\\Local\\Temp\\pip-build-env-bnh0ylz6\\overlay\\Lib\\site-packages\\Cython\\Compiler\\Main.py:369: FutureWarning: Cython directive 'language_level' not set, using 2 for now (Py2). This will change in a later release! File: C:\\Users\\jesus\\AppData\\Local\\Temp\\pip-install-zb5t08f8\\hdbscan_c911192c01fa42569b496d556ccb92eb\\hdbscan\\_hdbscan_tree.pyx\n",
      "    tree = Parsing.p_module(s, pxd, full_module_name)\n",
      "  cythoning hdbscan/_hdbscan_linkage.pyx to hdbscan\\_hdbscan_linkage.c\n",
      "  C:\\Users\\jesus\\AppData\\Local\\Temp\\pip-build-env-bnh0ylz6\\overlay\\Lib\\site-packages\\Cython\\Compiler\\Main.py:369: FutureWarning: Cython directive 'language_level' not set, using 2 for now (Py2). This will change in a later release! File: C:\\Users\\jesus\\AppData\\Local\\Temp\\pip-install-zb5t08f8\\hdbscan_c911192c01fa42569b496d556ccb92eb\\hdbscan\\_hdbscan_linkage.pyx\n",
      "    tree = Parsing.p_module(s, pxd, full_module_name)\n",
      "  cythoning hdbscan/_hdbscan_boruvka.pyx to hdbscan\\_hdbscan_boruvka.c\n",
      "  C:\\Users\\jesus\\AppData\\Local\\Temp\\pip-build-env-bnh0ylz6\\overlay\\Lib\\site-packages\\Cython\\Compiler\\Main.py:369: FutureWarning: Cython directive 'language_level' not set, using 2 for now (Py2). This will change in a later release! File: C:\\Users\\jesus\\AppData\\Local\\Temp\\pip-install-zb5t08f8\\hdbscan_c911192c01fa42569b496d556ccb92eb\\hdbscan\\_hdbscan_boruvka.pyx\n",
      "    tree = Parsing.p_module(s, pxd, full_module_name)\n",
      "  cythoning hdbscan/_hdbscan_reachability.pyx to hdbscan\\_hdbscan_reachability.c\n",
      "  C:\\Users\\jesus\\AppData\\Local\\Temp\\pip-build-env-bnh0ylz6\\overlay\\Lib\\site-packages\\Cython\\Compiler\\Main.py:369: FutureWarning: Cython directive 'language_level' not set, using 2 for now (Py2). This will change in a later release! File: C:\\Users\\jesus\\AppData\\Local\\Temp\\pip-install-zb5t08f8\\hdbscan_c911192c01fa42569b496d556ccb92eb\\hdbscan\\_hdbscan_reachability.pyx\n",
      "    tree = Parsing.p_module(s, pxd, full_module_name)\n",
      "  cythoning hdbscan/_prediction_utils.pyx to hdbscan\\_prediction_utils.c\n",
      "  C:\\Users\\jesus\\AppData\\Local\\Temp\\pip-build-env-bnh0ylz6\\overlay\\Lib\\site-packages\\Cython\\Compiler\\Main.py:369: FutureWarning: Cython directive 'language_level' not set, using 2 for now (Py2). This will change in a later release! File: C:\\Users\\jesus\\AppData\\Local\\Temp\\pip-install-zb5t08f8\\hdbscan_c911192c01fa42569b496d556ccb92eb\\hdbscan\\_prediction_utils.pyx\n",
      "    tree = Parsing.p_module(s, pxd, full_module_name)\n",
      "  cythoning hdbscan/dist_metrics.pyx to hdbscan\\dist_metrics.c\n",
      "  C:\\Users\\jesus\\AppData\\Local\\Temp\\pip-build-env-bnh0ylz6\\overlay\\Lib\\site-packages\\Cython\\Compiler\\Main.py:369: FutureWarning: Cython directive 'language_level' not set, using 2 for now (Py2). This will change in a later release! File: C:\\Users\\jesus\\AppData\\Local\\Temp\\pip-install-zb5t08f8\\hdbscan_c911192c01fa42569b496d556ccb92eb\\hdbscan\\dist_metrics.pxd\n",
      "    tree = Parsing.p_module(s, pxd, full_module_name)\n",
      "  building 'hdbscan._hdbscan_tree' extension\n",
      "  error: Microsoft Visual C++ 14.0 or greater is required. Get it with \"Microsoft C++ Build Tools\": https://visualstudio.microsoft.com/visual-cpp-build-tools/\n",
      "  ----------------------------------------\n",
      "  ERROR: Failed building wheel for hdbscan\n",
      "ERROR: Could not build wheels for hdbscan which use PEP 517 and cannot be installed directly\n"
     ]
    },
    {
     "name": "stdout",
     "output_type": "stream",
     "text": [
      "\n",
      "  Installing build dependencies: started\n",
      "  Installing build dependencies: finished with status 'done'\n",
      "  Getting requirements to build wheel: started\n",
      "  Getting requirements to build wheel: finished with status 'done'\n",
      "    Preparing wheel metadata: started\n",
      "    Preparing wheel metadata: finished with status 'done'\n",
      "Requirement already satisfied: tqdm>=4.41.1 in c:\\users\\jesus\\anaconda3\\lib\\site-packages (from bertopic) (4.64.0)\n",
      "Requirement already satisfied: numpy>=1.20.0 in c:\\users\\jesus\\anaconda3\\lib\\site-packages (from bertopic) (1.21.5)\n",
      "Requirement already satisfied: pandas>=1.1.5 in c:\\users\\jesus\\anaconda3\\lib\\site-packages (from bertopic) (1.4.2)\n",
      "Collecting sentence-transformers>=0.4.1\n",
      "  Downloading sentence-transformers-2.2.2.tar.gz (85 kB)\n",
      "Requirement already satisfied: scipy>=1.0 in c:\\users\\jesus\\anaconda3\\lib\\site-packages (from hdbscan>=0.8.29->bertopic) (1.7.3)\n",
      "Requirement already satisfied: cython>=0.27 in c:\\users\\jesus\\anaconda3\\lib\\site-packages (from hdbscan>=0.8.29->bertopic) (0.29.28)\n",
      "Requirement already satisfied: joblib>=1.0 in c:\\users\\jesus\\anaconda3\\lib\\site-packages (from hdbscan>=0.8.29->bertopic) (1.1.0)\n",
      "Requirement already satisfied: pytz>=2020.1 in c:\\users\\jesus\\anaconda3\\lib\\site-packages (from pandas>=1.1.5->bertopic) (2021.3)\n",
      "Requirement already satisfied: python-dateutil>=2.8.1 in c:\\users\\jesus\\anaconda3\\lib\\site-packages (from pandas>=1.1.5->bertopic) (2.8.2)\n",
      "Requirement already satisfied: six in c:\\users\\jesus\\anaconda3\\lib\\site-packages (from plotly>=4.7.0->bertopic) (1.16.0)\n",
      "Requirement already satisfied: tenacity>=6.2.0 in c:\\users\\jesus\\anaconda3\\lib\\site-packages (from plotly>=4.7.0->bertopic) (8.0.1)\n",
      "Requirement already satisfied: threadpoolctl>=2.0.0 in c:\\users\\jesus\\anaconda3\\lib\\site-packages (from scikit-learn>=0.22.2.post1->bertopic) (2.2.0)\n",
      "Collecting transformers<5.0.0,>=4.6.0\n",
      "  Downloading transformers-4.26.1-py3-none-any.whl (6.3 MB)\n",
      "Collecting torch>=1.6.0\n",
      "  Downloading torch-1.13.1-cp39-cp39-win_amd64.whl (162.5 MB)\n",
      "Collecting torchvision\n",
      "  Downloading torchvision-0.14.1-cp39-cp39-win_amd64.whl (1.1 MB)\n",
      "Requirement already satisfied: nltk in c:\\users\\jesus\\anaconda3\\lib\\site-packages (from sentence-transformers>=0.4.1->bertopic) (3.7)\n",
      "Collecting sentencepiece\n",
      "  Downloading sentencepiece-0.1.97-cp39-cp39-win_amd64.whl (1.1 MB)\n",
      "Collecting huggingface-hub>=0.4.0\n",
      "  Downloading huggingface_hub-0.12.1-py3-none-any.whl (190 kB)\n",
      "Requirement already satisfied: pyyaml>=5.1 in c:\\users\\jesus\\anaconda3\\lib\\site-packages (from huggingface-hub>=0.4.0->sentence-transformers>=0.4.1->bertopic) (6.0)\n",
      "Requirement already satisfied: filelock in c:\\users\\jesus\\anaconda3\\lib\\site-packages (from huggingface-hub>=0.4.0->sentence-transformers>=0.4.1->bertopic) (3.6.0)\n",
      "Requirement already satisfied: requests in c:\\users\\jesus\\anaconda3\\lib\\site-packages (from huggingface-hub>=0.4.0->sentence-transformers>=0.4.1->bertopic) (2.27.1)\n",
      "Requirement already satisfied: typing-extensions>=3.7.4.3 in c:\\users\\jesus\\anaconda3\\lib\\site-packages (from huggingface-hub>=0.4.0->sentence-transformers>=0.4.1->bertopic) (4.1.1)\n",
      "Requirement already satisfied: packaging>=20.9 in c:\\users\\jesus\\anaconda3\\lib\\site-packages (from huggingface-hub>=0.4.0->sentence-transformers>=0.4.1->bertopic) (21.3)\n",
      "Requirement already satisfied: pyparsing!=3.0.5,>=2.0.2 in c:\\users\\jesus\\anaconda3\\lib\\site-packages (from packaging>=20.9->huggingface-hub>=0.4.0->sentence-transformers>=0.4.1->bertopic) (3.0.4)\n",
      "Requirement already satisfied: colorama in c:\\users\\jesus\\anaconda3\\lib\\site-packages (from tqdm>=4.41.1->bertopic) (0.4.4)\n",
      "Requirement already satisfied: regex!=2019.12.17 in c:\\users\\jesus\\anaconda3\\lib\\site-packages (from transformers<5.0.0,>=4.6.0->sentence-transformers>=0.4.1->bertopic) (2022.3.15)\n",
      "Collecting tokenizers!=0.11.3,<0.14,>=0.11.1\n",
      "  Downloading tokenizers-0.13.2-cp39-cp39-win_amd64.whl (3.3 MB)\n",
      "Requirement already satisfied: numba>=0.49 in c:\\users\\jesus\\anaconda3\\lib\\site-packages (from umap-learn>=0.5.0->bertopic) (0.55.1)\n",
      "Collecting pynndescent>=0.5\n",
      "  Downloading pynndescent-0.5.8.tar.gz (1.1 MB)\n",
      "Requirement already satisfied: setuptools in c:\\users\\jesus\\anaconda3\\lib\\site-packages (from numba>=0.49->umap-learn>=0.5.0->bertopic) (61.2.0)\n",
      "Requirement already satisfied: llvmlite<0.39,>=0.38.0rc1 in c:\\users\\jesus\\anaconda3\\lib\\site-packages (from numba>=0.49->umap-learn>=0.5.0->bertopic) (0.38.0)\n",
      "Requirement already satisfied: click in c:\\users\\jesus\\anaconda3\\lib\\site-packages (from nltk->sentence-transformers>=0.4.1->bertopic) (8.0.4)\n",
      "Requirement already satisfied: charset-normalizer~=2.0.0 in c:\\users\\jesus\\anaconda3\\lib\\site-packages (from requests->huggingface-hub>=0.4.0->sentence-transformers>=0.4.1->bertopic) (2.0.4)\n",
      "Requirement already satisfied: urllib3<1.27,>=1.21.1 in c:\\users\\jesus\\anaconda3\\lib\\site-packages (from requests->huggingface-hub>=0.4.0->sentence-transformers>=0.4.1->bertopic) (1.26.9)\n",
      "Requirement already satisfied: certifi>=2017.4.17 in c:\\users\\jesus\\anaconda3\\lib\\site-packages (from requests->huggingface-hub>=0.4.0->sentence-transformers>=0.4.1->bertopic) (2021.10.8)\n",
      "Requirement already satisfied: idna<4,>=2.5 in c:\\users\\jesus\\anaconda3\\lib\\site-packages (from requests->huggingface-hub>=0.4.0->sentence-transformers>=0.4.1->bertopic) (3.3)\n",
      "Requirement already satisfied: pillow!=8.3.*,>=5.3.0 in c:\\users\\jesus\\anaconda3\\lib\\site-packages (from torchvision->sentence-transformers>=0.4.1->bertopic) (9.0.1)\n",
      "Building wheels for collected packages: hdbscan, sentence-transformers, umap-learn, pynndescent\n",
      "  Building wheel for hdbscan (PEP 517): started\n",
      "  Building wheel for hdbscan (PEP 517): finished with status 'error'\n",
      "  Building wheel for sentence-transformers (setup.py): started\n",
      "  Building wheel for sentence-transformers (setup.py): finished with status 'done'\n",
      "  Created wheel for sentence-transformers: filename=sentence_transformers-2.2.2-py3-none-any.whl size=125940 sha256=ec3813cf152aa1ae0e1aa97eddd5246f90e115841cf5ef061d5ed009d95c348c\n",
      "  Stored in directory: c:\\users\\jesus\\appdata\\local\\pip\\cache\\wheels\\71\\67\\06\\162a3760c40d74dd40bc855d527008d26341c2b0ecf3e8e11f\n",
      "  Building wheel for umap-learn (setup.py): started\n",
      "  Building wheel for umap-learn (setup.py): finished with status 'done'\n",
      "  Created wheel for umap-learn: filename=umap_learn-0.5.3-py3-none-any.whl size=82829 sha256=29a0a309757237af73f09d2dbb245420e97c23aa13b3f2a919513fdb51763e3c\n",
      "  Stored in directory: c:\\users\\jesus\\appdata\\local\\pip\\cache\\wheels\\f4\\3e\\1c\\596d0a463d17475af648688443fa4846fef624d1390339e7e9\n",
      "  Building wheel for pynndescent (setup.py): started\n",
      "  Building wheel for pynndescent (setup.py): finished with status 'done'\n",
      "  Created wheel for pynndescent: filename=pynndescent-0.5.8-py3-none-any.whl size=55512 sha256=96b7a8a78bcd0f82ee93b631faf33751edebc23ce0a230bc1846e53ce919a2bd\n",
      "  Stored in directory: c:\\users\\jesus\\appdata\\local\\pip\\cache\\wheels\\b9\\89\\cc\\59ab91ef5b21dc2ab3635528d7d227f49dfc9169905dcb959d\n",
      "Successfully built sentence-transformers umap-learn pynndescent\n",
      "Failed to build hdbscan\n"
     ]
    }
   ],
   "source": [
    "#Las paqueterías se van importando según las necesidades que surjan \n",
    "#comando para descarcar alguna paquetería en el jupiter\n",
    "!pip install bertopic"
   ]
  },
  {
   "cell_type": "code",
   "execution_count": 56,
   "id": "d2f01ac9",
   "metadata": {},
   "outputs": [
    {
     "ename": "ModuleNotFoundError",
     "evalue": "No module named 'bertopic'",
     "output_type": "error",
     "traceback": [
      "\u001b[1;31m---------------------------------------------------------------------------\u001b[0m",
      "\u001b[1;31mModuleNotFoundError\u001b[0m                       Traceback (most recent call last)",
      "Input \u001b[1;32mIn [56]\u001b[0m, in \u001b[0;36m<cell line: 1>\u001b[1;34m()\u001b[0m\n\u001b[1;32m----> 1\u001b[0m \u001b[38;5;28;01mimport\u001b[39;00m \u001b[38;5;21;01mbertopic\u001b[39;00m\n",
      "\u001b[1;31mModuleNotFoundError\u001b[0m: No module named 'bertopic'"
     ]
    }
   ],
   "source": [
    "import bertopic"
   ]
  },
  {
   "cell_type": "code",
   "execution_count": null,
   "id": "496da7cb",
   "metadata": {},
   "outputs": [],
   "source": [
    "#paquetería para realizar calculos matemáticos\n",
    "#Matrices, arrays, funciones trigonométricas,etc\n",
    "import numpy"
   ]
  },
  {
   "cell_type": "code",
   "execution_count": 57,
   "id": "65d3ce4e",
   "metadata": {},
   "outputs": [],
   "source": [
    "#Al importar paqueterías puedes renombrarlas según sea conveniente\n",
    "import random as rd"
   ]
  },
  {
   "cell_type": "code",
   "execution_count": 58,
   "id": "68e775b6",
   "metadata": {},
   "outputs": [
    {
     "data": {
      "text/plain": [
       "6"
      ]
     },
     "execution_count": 58,
     "metadata": {},
     "output_type": "execute_result"
    }
   ],
   "source": [
    "rd.randint(0,10)"
   ]
  },
  {
   "cell_type": "code",
   "execution_count": 59,
   "id": "da9d4134",
   "metadata": {},
   "outputs": [],
   "source": [
    "import pandas as pd"
   ]
  },
  {
   "cell_type": "code",
   "execution_count": 60,
   "id": "899bc4df",
   "metadata": {},
   "outputs": [
    {
     "data": {
      "text/html": [
       "<div>\n",
       "<style scoped>\n",
       "    .dataframe tbody tr th:only-of-type {\n",
       "        vertical-align: middle;\n",
       "    }\n",
       "\n",
       "    .dataframe tbody tr th {\n",
       "        vertical-align: top;\n",
       "    }\n",
       "\n",
       "    .dataframe thead th {\n",
       "        text-align: right;\n",
       "    }\n",
       "</style>\n",
       "<table border=\"1\" class=\"dataframe\">\n",
       "  <thead>\n",
       "    <tr style=\"text-align: right;\">\n",
       "      <th></th>\n",
       "      <th>0</th>\n",
       "    </tr>\n",
       "  </thead>\n",
       "  <tbody>\n",
       "    <tr>\n",
       "      <th>0</th>\n",
       "      <td>0</td>\n",
       "    </tr>\n",
       "    <tr>\n",
       "      <th>1</th>\n",
       "      <td>1</td>\n",
       "    </tr>\n",
       "  </tbody>\n",
       "</table>\n",
       "</div>"
      ],
      "text/plain": [
       "   0\n",
       "0  0\n",
       "1  1"
      ]
     },
     "execution_count": 60,
     "metadata": {},
     "output_type": "execute_result"
    }
   ],
   "source": [
    "pd.DataFrame([0,1])"
   ]
  },
  {
   "cell_type": "code",
   "execution_count": 65,
   "id": "7252df2a",
   "metadata": {},
   "outputs": [],
   "source": [
    "#También se pueden importar cosas especificas de una paquetería\n",
    "from matplotlib import pyplot as plt\n",
    "import numpy as np"
   ]
  },
  {
   "cell_type": "code",
   "execution_count": 72,
   "id": "2d3aba64",
   "metadata": {},
   "outputs": [
    {
     "data": {
      "image/png": "[encoded data removed]",
      "text/plain": [
       "<Figure size 432x288 with 1 Axes>"
      ]
     },
     "metadata": {
      "needs_background": "light"
     },
     "output_type": "display_data"
    }
   ],
   "source": [
    "x=np.arange(0,5,0.1)\n",
    "y=np.sin(x)\n",
    "plt.plot(x,y,'o-',color='magenta')\n",
    "plt.xlabel('x')\n",
    "plt.ylabel('sen(x)')\n",
    "plt.title('Seno de x')\n",
    "plt.grid()"
   ]
  },
  {
   "cell_type": "code",
   "execution_count": 74,
   "id": "e43eb78c",
   "metadata": {},
   "outputs": [],
   "source": [
    "#Para graficos estadísiticas se utiliza:\n",
    "import seaborn as sns"
   ]
  },
  {
   "cell_type": "code",
   "execution_count": null,
   "id": "8ef92728",
   "metadata": {},
   "outputs": [],
   "source": []
  }
 ],
 "metadata": {
  "kernelspec": {
   "display_name": "Python 3 (ipykernel)",
   "language": "python",
   "name": "python3"
  },
  "language_info": {
   "codemirror_mode": {
    "name": "ipython",
    "version": 3
   },
   "file_extension": ".py",
   "mimetype": "text/x-python",
   "name": "python",
   "nbconvert_exporter": "python",
   "pygments_lexer": "ipython3",
   "version": "3.9.12"
  }
 },
 "nbformat": 4,
 "nbformat_minor": 5
}
